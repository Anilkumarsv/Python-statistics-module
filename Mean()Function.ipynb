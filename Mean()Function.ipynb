{
  "nbformat": 4,
  "nbformat_minor": 0,
  "metadata": {
    "colab": {
      "provenance": []
    },
    "kernelspec": {
      "name": "python3",
      "display_name": "Python 3"
    },
    "language_info": {
      "name": "python"
    }
  },
  "cells": [
    {
      "cell_type": "code",
      "execution_count": 1,
      "metadata": {
        "colab": {
          "base_uri": "https://localhost:8080/"
        },
        "id": "ibROM4qrq89g",
        "outputId": "3bd37a78-df06-441d-e52b-affc15a6f8ae"
      },
      "outputs": [
        {
          "output_type": "stream",
          "name": "stdout",
          "text": [
            "Mean is : 4.857142857142857\n"
          ]
        }
      ],
      "source": [
        "import statistics    \n",
        "# list of positive integer numbers   \n",
        "datasets = [5, 2, 7, 4, 2, 6, 8]     \n",
        "x = statistics.mean(datasets)     \n",
        "# Printing the mean   \n",
        "print(\"Mean is :\", x)  "
      ]
    }
  ]
}